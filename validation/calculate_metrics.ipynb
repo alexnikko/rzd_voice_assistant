{
 "cells": [
  {
   "cell_type": "code",
   "execution_count": 1,
   "id": "7fb7357f-1abc-46ca-b1c6-5240e5b1f0d8",
   "metadata": {},
   "outputs": [],
   "source": [
    "import pandas as pd\n",
    "import numpy as np\n",
    "import torch\n",
    "\n",
    "from sklearn.metrics import classification_report, accuracy_score\n",
    "\n",
    "import sys\n",
    "sys.path.append('../rzd')\n",
    "\n",
    "from information_retrieval import Embedder\n",
    "\n",
    "import warnings\n",
    "warnings.filterwarnings('ignore')"
   ]
  },
  {
   "cell_type": "code",
   "execution_count": 2,
   "id": "62ca92a4-a525-40ed-bf4a-f61ab42f3e54",
   "metadata": {},
   "outputs": [
    {
     "name": "stderr",
     "output_type": "stream",
     "text": [
      "No sentence-transformers model found with name /Users/alexnikko/.cache/torch/sentence_transformers/d0rj_ruRoberta-distilled. Creating a new one with MEAN pooling.\n",
      "Some weights of RobertaModel were not initialized from the model checkpoint at /Users/alexnikko/.cache/torch/sentence_transformers/d0rj_ruRoberta-distilled and are newly initialized: ['roberta.pooler.dense.weight', 'roberta.pooler.dense.bias']\n",
      "You should probably TRAIN this model on a down-stream task to be able to use it for predictions and inference.\n"
     ]
    }
   ],
   "source": [
    "model_name_or_path = 'd0rj/ruRoberta-distilled'\n",
    "device = torch.device('cuda' if torch.cuda.is_available() else 'cpu')\n",
    "embedder = Embedder(model_name_or_path=model_name_or_path, device=device)"
   ]
  },
  {
   "cell_type": "code",
   "execution_count": 3,
   "id": "ab3d20ef-da52-43f6-9a45-728c56addd4f",
   "metadata": {},
   "outputs": [],
   "source": [
    "index = pd.read_pickle('database_keys.p')\n",
    "index_embs = embedder.get_embeddings(index)"
   ]
  },
  {
   "cell_type": "code",
   "execution_count": 4,
   "id": "3e266249-5ea2-4d73-b4f4-00c63f2ac8a4",
   "metadata": {},
   "outputs": [],
   "source": [
    "validation_dataset = pd.read_csv('validation_dataset.csv')\n",
    "unique_labels = validation_dataset['gt'].unique()\n",
    "queries = validation_dataset['query'].tolist()\n",
    "y_true = validation_dataset['gt'].values\n",
    "query_embs = embedder.get_embeddings(queries)"
   ]
  },
  {
   "cell_type": "code",
   "execution_count": 5,
   "id": "ee8c322a-e764-4b5d-a7cb-74f2a6eb6e5e",
   "metadata": {},
   "outputs": [],
   "source": [
    "def calculate_pairwise_cos_sim(query_embs, index_embs):\n",
    "    return torch.cosine_similarity(query_embs[:, None], index_embs[None], dim=-1)\n",
    "\n",
    "def calculate_top_1_prediction(pairwise_dists):\n",
    "    topk = torch.topk(pairwise_dists, 1, dim=1)\n",
    "    return topk.indices.ravel().numpy()\n",
    "\n",
    "def get_y_pred(index, top_1_indices):\n",
    "    return [index[k] for k in top_1_indices]\n",
    "\n",
    "\n",
    "def calculate_y_pred(query_embs, index_embs, index):\n",
    "    pairwise_dists = calculate_pairwise_cos_sim(query_embs, index_embs)\n",
    "    top_1_indices = calculate_top_1_prediction(pairwise_dists)\n",
    "    y_pred = get_y_pred(index, top_1_indices)\n",
    "    return y_pred"
   ]
  },
  {
   "cell_type": "code",
   "execution_count": 6,
   "id": "6690e5fb-2352-4031-9584-b56ffe571888",
   "metadata": {},
   "outputs": [],
   "source": [
    "y_pred = calculate_y_pred(query_embs, index_embs, index)"
   ]
  },
  {
   "cell_type": "code",
   "execution_count": 7,
   "id": "ed8d3b32-09d3-49b8-9a3f-200baa8a7f79",
   "metadata": {},
   "outputs": [
    {
     "name": "stdout",
     "output_type": "stream",
     "text": [
      "Accuracy = 0.81\n",
      "                                                                                                      precision    recall  f1-score   support\n",
      "\n",
      "                                                                                   Не включилось РУ6       1.00      1.00      1.00        10\n",
      "                                        Реле РУ6 срабатывает, но не включается реле времени РВ1, РВ2       1.00      1.00      1.00        10\n",
      "                  При нажатии кнопки \"Пуск дизеля\" (все нужные автоматы включены) КМН не включается.       1.00      1.00      1.00        10\n",
      "  При нажатии кнопки \"Пуск дизеля\" контактор КМН включается, но маслопрокачивающий насос не работает       1.00      1.00      1.00        10\n",
      "При пуске прокачка масла есть (60-90 сек), но после отключения КМН пусковые контакторы не включаются       1.00      1.00      1.00        10\n",
      "                                                      При работающем дизеле нет тока зарядки батареи       1.00      0.30      0.46        10\n",
      "                        Тепловоз приходит в движение, но по кА и кВ наблюдается обратная полярность.       1.00      1.00      1.00        10\n",
      "                                                                    Сброс нагрузки с 1 - ой позиции.       1.00      0.10      0.18        10\n",
      "                        Дизель идет вразнос (резко увеличивается частота вращения коленчатого вала).       1.00      0.70      0.82        10\n",
      "                                                         Снижение уровня воды в расширительном баке.       0.77      1.00      0.87        10\n",
      "\n",
      "                                                                                           micro avg       0.96      0.81      0.88       100\n",
      "                                                                                           macro avg       0.98      0.81      0.83       100\n",
      "                                                                                        weighted avg       0.98      0.81      0.83       100\n",
      "\n"
     ]
    }
   ],
   "source": [
    "print(f'Accuracy = {accuracy_score(y_true, y_pred)}')\n",
    "print(classification_report(y_true, y_pred, labels=unique_labels))"
   ]
  },
  {
   "cell_type": "code",
   "execution_count": null,
   "id": "df9eec03-5cf8-48ae-8b84-766641e076dd",
   "metadata": {},
   "outputs": [],
   "source": []
  }
 ],
 "metadata": {
  "kernelspec": {
   "display_name": "Python 3 (ipykernel)",
   "language": "python",
   "name": "python3"
  },
  "language_info": {
   "codemirror_mode": {
    "name": "ipython",
    "version": 3
   },
   "file_extension": ".py",
   "mimetype": "text/x-python",
   "name": "python",
   "nbconvert_exporter": "python",
   "pygments_lexer": "ipython3",
   "version": "3.10.12"
  }
 },
 "nbformat": 4,
 "nbformat_minor": 5
}
